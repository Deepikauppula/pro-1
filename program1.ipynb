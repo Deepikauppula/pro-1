{
 "cells": [
  {
   "cell_type": "code",
   "execution_count": null,
   "id": "781786c8",
   "metadata": {},
   "outputs": [],
   "source": [
    "input_str = input(\"enter a string :\")\n",
    "char_count = {}\n",
    "for i, char in enumerate(input_str):\n",
    "    if char != \" \":\n",
    "        char = char.lower() # convert char to lowercase\n",
    "        \n",
    "    if char.isalpha():\n",
    "        count = char_count.get(char, 0)\n",
    "        if count > 0:\n",
    "            next_char = chr(ord(char) + count)\n",
    "            input_str = input_str[:i] + next_char + input_str[i+1:]\n",
    "        char_count[char] = count + 1\n",
    "print(char_count)\n",
    "print(input_str)"
   ]
  },
  {
   "cell_type": "code",
   "execution_count": null,
   "id": "53d4cce8",
   "metadata": {},
   "outputs": [],
   "source": []
  }
 ],
 "metadata": {
  "kernelspec": {
   "display_name": "Python 3 (ipykernel)",
   "language": "python",
   "name": "python3"
  },
  "language_info": {
   "codemirror_mode": {
    "name": "ipython",
    "version": 3
   },
   "file_extension": ".py",
   "mimetype": "text/x-python",
   "name": "python",
   "nbconvert_exporter": "python",
   "pygments_lexer": "ipython3",
   "version": "3.10.9"
  }
 },
 "nbformat": 4,
 "nbformat_minor": 5
}
